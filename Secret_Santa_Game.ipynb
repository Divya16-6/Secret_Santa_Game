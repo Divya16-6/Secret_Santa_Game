{
 "cells": [
  {
   "cell_type": "markdown",
   "id": "cb3a45dd-8c8c-484d-a980-790808fd1178",
   "metadata": {},
   "source": [
    "### Secret Santa Game "
   ]
  },
  {
   "cell_type": "code",
   "execution_count": 1,
   "id": "0b763df2-3192-4edf-b729-1adac8c2aaf9",
   "metadata": {},
   "outputs": [],
   "source": [
    "# Required dependecies \n",
    "\n",
    "import pandas as pd\n",
    "import os"
   ]
  },
  {
   "cell_type": "code",
   "execution_count": 2,
   "id": "5375fad7-ddef-4e20-8be6-7b1fb4266675",
   "metadata": {},
   "outputs": [
    {
     "name": "stdout",
     "output_type": "stream",
     "text": [
      "Requirement already satisfied: openpyxl in c:\\users\\divya s\\appdata\\local\\programs\\python\\python312\\lib\\site-packages (3.1.5)\n",
      "Requirement already satisfied: et-xmlfile in c:\\users\\divya s\\appdata\\local\\programs\\python\\python312\\lib\\site-packages (from openpyxl) (2.0.0)\n"
     ]
    },
    {
     "name": "stderr",
     "output_type": "stream",
     "text": [
      "\n",
      "[notice] A new release of pip is available: 24.2 -> 24.3.1\n",
      "[notice] To update, run: python.exe -m pip install --upgrade pip\n"
     ]
    }
   ],
   "source": [
    "# Using this package we are able to do some activities in excel\n",
    "\n",
    "!pip install openpyxl"
   ]
  },
  {
   "cell_type": "code",
   "execution_count": 4,
   "id": "40bb75ce-e0c5-4c47-b6ea-dde531c54c38",
   "metadata": {},
   "outputs": [],
   "source": [
    "# Reading the excel file using pandas in-built function\n",
    "\n",
    "df = pd.read_excel(\"Employee-List.xlsx\")"
   ]
  },
  {
   "cell_type": "code",
   "execution_count": 5,
   "id": "f770c62a-621d-4aa1-a365-bd88d018ad59",
   "metadata": {},
   "outputs": [
    {
     "data": {
      "text/html": [
       "<div>\n",
       "<style scoped>\n",
       "    .dataframe tbody tr th:only-of-type {\n",
       "        vertical-align: middle;\n",
       "    }\n",
       "\n",
       "    .dataframe tbody tr th {\n",
       "        vertical-align: top;\n",
       "    }\n",
       "\n",
       "    .dataframe thead th {\n",
       "        text-align: right;\n",
       "    }\n",
       "</style>\n",
       "<table border=\"1\" class=\"dataframe\">\n",
       "  <thead>\n",
       "    <tr style=\"text-align: right;\">\n",
       "      <th></th>\n",
       "      <th>Employee_Name</th>\n",
       "      <th>Employee_EmailID</th>\n",
       "    </tr>\n",
       "  </thead>\n",
       "  <tbody>\n",
       "    <tr>\n",
       "      <th>0</th>\n",
       "      <td>Hamish Murray</td>\n",
       "      <td>hamish.murray@acme.com</td>\n",
       "    </tr>\n",
       "    <tr>\n",
       "      <th>1</th>\n",
       "      <td>Layla Graham</td>\n",
       "      <td>layla.graham@acme.com</td>\n",
       "    </tr>\n",
       "    <tr>\n",
       "      <th>2</th>\n",
       "      <td>Matthew King</td>\n",
       "      <td>matthew.king@acme.com</td>\n",
       "    </tr>\n",
       "    <tr>\n",
       "      <th>3</th>\n",
       "      <td>Benjamin Collins</td>\n",
       "      <td>benjamin.collins@acme.com</td>\n",
       "    </tr>\n",
       "    <tr>\n",
       "      <th>4</th>\n",
       "      <td>Isabella Scott</td>\n",
       "      <td>isabella.scott@acme.com</td>\n",
       "    </tr>\n",
       "    <tr>\n",
       "      <th>5</th>\n",
       "      <td>Charlie Ross</td>\n",
       "      <td>charlie.ross@acme.com</td>\n",
       "    </tr>\n",
       "    <tr>\n",
       "      <th>6</th>\n",
       "      <td>Hamish Murray</td>\n",
       "      <td>hamish.murray.sr@acme.com</td>\n",
       "    </tr>\n",
       "    <tr>\n",
       "      <th>7</th>\n",
       "      <td>Piper Stewart</td>\n",
       "      <td>piper.stewart@acme.com</td>\n",
       "    </tr>\n",
       "    <tr>\n",
       "      <th>8</th>\n",
       "      <td>Spencer Allen</td>\n",
       "      <td>spencer.allen@acme.com</td>\n",
       "    </tr>\n",
       "    <tr>\n",
       "      <th>9</th>\n",
       "      <td>Charlie Wright</td>\n",
       "      <td>charlie.wright@acme.com</td>\n",
       "    </tr>\n",
       "    <tr>\n",
       "      <th>10</th>\n",
       "      <td>Hamish Murray</td>\n",
       "      <td>hamish.murray.jr@acme.com</td>\n",
       "    </tr>\n",
       "    <tr>\n",
       "      <th>11</th>\n",
       "      <td>Charlie Ross</td>\n",
       "      <td>charlie.ross.jr@acme.com</td>\n",
       "    </tr>\n",
       "    <tr>\n",
       "      <th>12</th>\n",
       "      <td>Ethan Murray</td>\n",
       "      <td>ethan.murray@acme.com</td>\n",
       "    </tr>\n",
       "    <tr>\n",
       "      <th>13</th>\n",
       "      <td>Matthew King</td>\n",
       "      <td>matthew.king.jr@acme.com</td>\n",
       "    </tr>\n",
       "    <tr>\n",
       "      <th>14</th>\n",
       "      <td>Mark Lawrence</td>\n",
       "      <td>mark.lawrence@acme.com</td>\n",
       "    </tr>\n",
       "  </tbody>\n",
       "</table>\n",
       "</div>"
      ],
      "text/plain": [
       "       Employee_Name           Employee_EmailID\n",
       "0      Hamish Murray     hamish.murray@acme.com\n",
       "1       Layla Graham      layla.graham@acme.com\n",
       "2       Matthew King      matthew.king@acme.com\n",
       "3   Benjamin Collins  benjamin.collins@acme.com\n",
       "4     Isabella Scott    isabella.scott@acme.com\n",
       "5       Charlie Ross      charlie.ross@acme.com\n",
       "6      Hamish Murray  hamish.murray.sr@acme.com\n",
       "7      Piper Stewart     piper.stewart@acme.com\n",
       "8      Spencer Allen     spencer.allen@acme.com\n",
       "9     Charlie Wright    charlie.wright@acme.com\n",
       "10     Hamish Murray  hamish.murray.jr@acme.com\n",
       "11      Charlie Ross   charlie.ross.jr@acme.com\n",
       "12      Ethan Murray      ethan.murray@acme.com\n",
       "13      Matthew King   matthew.king.jr@acme.com\n",
       "14     Mark Lawrence     mark.lawrence@acme.com"
      ]
     },
     "execution_count": 5,
     "metadata": {},
     "output_type": "execute_result"
    }
   ],
   "source": [
    "# Getting top 20 rows using the function\n",
    "\n",
    "df.head(20)"
   ]
  },
  {
   "cell_type": "code",
   "execution_count": 6,
   "id": "2c571a95-aa63-468a-99f9-134cfc0ea10b",
   "metadata": {},
   "outputs": [],
   "source": [
    "\"\"\"\n",
    "    Function to assign the secret santa and to generate the output excel with the assigned secret santa data\n",
    "\n",
    "    Args: df --> Excel data as dataframe\n",
    "\"\"\"\n",
    "def assigning_secret_santa(df):\n",
    "    givers = df.copy()\n",
    "    receivers = df.sample(frac=1).reset_index(drop=True)     # Shuffling the receivers\n",
    "    \n",
    "    # Looping the data to getting the same user as a secret santa\n",
    "    while any(givers.iloc[i][\"Employee_Name\"] == receivers.iloc[i][\"Employee_Name\"] for i in range(len(givers))):\n",
    "        receivers = df.sample(frac=1).reset_index(drop=True) \n",
    "    \n",
    "    # Creating a new column for the secret child and for the email.\n",
    "    givers[\"Secret_Child_Name\"] = receivers[\"Employee_Name\"]\n",
    "    givers[\"Secret_Child_EmailID\"] = receivers[\"Employee_EmailID\"]\n",
    "\n",
    "    # Creating a output file to get the excel file as response\n",
    "    output_path = 'Secret-Santa-Game-Result-2025.xlsx'\n",
    "    if os.path.exists(output_path):\n",
    "        print(f\"File '{output_path}' already exists. It will be overwritten.\")\n",
    "        \n",
    "    try:\n",
    "        givers.to_excel(output_path, index=False) # Generating the excel file named output.xlsx using the givers dataframe.\n",
    "        print(\"Excel file saved to:\", os.path.abspath(output_path))\n",
    "    except Exception as e:\n",
    "        print(f\"Failed to save Excel file: {e}\")\n",
    "        raise"
   ]
  },
  {
   "cell_type": "code",
   "execution_count": 7,
   "id": "c6484583-00a0-4306-a4a2-5d8f1271cdf4",
   "metadata": {},
   "outputs": [
    {
     "name": "stdout",
     "output_type": "stream",
     "text": [
      "Excel file saved to: D:\\Interview-questions\\Digitalx\\answer\\Secret-Santa-Game-Result-2025.xlsx\n"
     ]
    }
   ],
   "source": [
    "# Calling the function to get the output\n",
    "\n",
    "assigning_secret_santa(df)"
   ]
  },
  {
   "cell_type": "code",
   "execution_count": 8,
   "id": "d928cd57-103f-4bbb-87f2-268a83975420",
   "metadata": {},
   "outputs": [],
   "source": [
    "# Kindly open the file in excel. Thank you!!!"
   ]
  }
 ],
 "metadata": {
  "kernelspec": {
   "display_name": "Python 3 (ipykernel)",
   "language": "python",
   "name": "python3"
  },
  "language_info": {
   "codemirror_mode": {
    "name": "ipython",
    "version": 3
   },
   "file_extension": ".py",
   "mimetype": "text/x-python",
   "name": "python",
   "nbconvert_exporter": "python",
   "pygments_lexer": "ipython3",
   "version": "3.12.7"
  }
 },
 "nbformat": 4,
 "nbformat_minor": 5
}
